{
 "cells": [
  {
   "cell_type": "code",
   "execution_count": 1,
   "metadata": {},
   "outputs": [],
   "source": [
    "board = [\"-\", \"-\", \"-\",\n",
    "         \"-\", \"-\", \"-\",\n",
    "         \"-\", \"-\", \"-\"]"
   ]
  },
  {
   "cell_type": "code",
   "execution_count": 2,
   "metadata": {},
   "outputs": [],
   "source": [
    "game_still_going = True\n",
    "\n",
    "winner = None\n",
    "\n",
    "current_player = \"X\""
   ]
  },
  {
   "cell_type": "code",
   "execution_count": 3,
   "metadata": {},
   "outputs": [],
   "source": [
    "def play_game():\n",
    "\n",
    "  \n",
    "  display_board()\n",
    "\n",
    "  \n",
    "  while game_still_going:\n",
    "\n",
    "    \n",
    "    handle_turn(current_player)\n",
    "\n",
    "    \n",
    "    check_if_game_over()\n",
    "\n",
    "    \n",
    "    flip_player()\n",
    "  \n",
    "  \n",
    "  if winner == \"X\" or winner == \"O\":\n",
    "    print(winner + \" won.\")\n",
    "  elif winner == None:\n",
    "    print(\"Tie.\")\n"
   ]
  },
  {
   "cell_type": "code",
   "execution_count": 4,
   "metadata": {},
   "outputs": [],
   "source": [
    "def display_board():\n",
    "  print(\"\\n\")\n",
    "  print(board[0] + \" | \" + board[1] + \" | \" + board[2] + \"     1 | 2 | 3\")\n",
    "  print(board[3] + \" | \" + board[4] + \" | \" + board[5] + \"     4 | 5 | 6\")\n",
    "  print(board[6] + \" | \" + board[7] + \" | \" + board[8] + \"     7 | 8 | 9\")\n",
    "  print(\"\\n\")\n",
    "\n"
   ]
  },
  {
   "cell_type": "code",
   "execution_count": 5,
   "metadata": {},
   "outputs": [],
   "source": [
    "def handle_turn(player):\n",
    "\n",
    "  \n",
    "  print(player + \"'s turn.\")\n",
    "  position = input(\"Choose a position from 1-9: \")\n",
    "\n",
    "  \n",
    "  valid = False\n",
    "  while not valid:\n",
    "\n",
    "    \n",
    "    while position not in [\"1\", \"2\", \"3\", \"4\", \"5\", \"6\", \"7\", \"8\", \"9\"]:\n",
    "      position = input(\"Choose a position from 1-9: \")\n",
    " \n",
    "    \n",
    "    position = int(position) - 1\n",
    "\n",
    "    \n",
    "    if board[position] == \"-\":\n",
    "      valid = True\n",
    "    else:\n",
    "      print(\"You can't go there. Go again.\")\n",
    "\n",
    "  \n",
    "  board[position] = player\n",
    "\n",
    "  \n",
    "  display_board()\n"
   ]
  },
  {
   "cell_type": "code",
   "execution_count": 6,
   "metadata": {},
   "outputs": [],
   "source": [
    "def check_if_game_over():\n",
    "  check_for_winner()\n",
    "  check_for_tie()\n"
   ]
  },
  {
   "cell_type": "code",
   "execution_count": 7,
   "metadata": {},
   "outputs": [],
   "source": [
    "def check_for_winner():\n",
    "  \n",
    "  global winner\n",
    "  \n",
    "  row_winner = check_rows()\n",
    "  column_winner = check_columns()\n",
    "  diagonal_winner = check_diagonals()\n",
    "\n",
    "  if row_winner:\n",
    "    winner = row_winner\n",
    "  elif column_winner:\n",
    "    winner = column_winner\n",
    "  elif diagonal_winner:\n",
    "    winner = diagonal_winner\n",
    "  else:\n",
    "    winner = None\n",
    "\n"
   ]
  },
  {
   "cell_type": "code",
   "execution_count": 8,
   "metadata": {},
   "outputs": [],
   "source": [
    "def check_rows():\n",
    "  \n",
    "  global game_still_going\n",
    "  \n",
    "  row_1 = board[0] == board[1] == board[2] != \"-\"\n",
    "  row_2 = board[3] == board[4] == board[5] != \"-\"\n",
    "  row_3 = board[6] == board[7] == board[8] != \"-\"\n",
    "  \n",
    "  if row_1 or row_2 or row_3:\n",
    "    game_still_going = False\n",
    "  \n",
    "  if row_1:\n",
    "    return board[0] \n",
    "  elif row_2:\n",
    "    return board[3] \n",
    "  elif row_3:\n",
    "    return board[6] \n",
    "  else:\n",
    "    return None\n"
   ]
  },
  {
   "cell_type": "code",
   "execution_count": 9,
   "metadata": {},
   "outputs": [],
   "source": [
    "def check_columns():\n",
    "  global game_still_going\n",
    "\n",
    "  column_1 = board[0] == board[3] == board[6] != \"-\"\n",
    "  column_2 = board[1] == board[4] == board[7] != \"-\"\n",
    "  column_3 = board[2] == board[5] == board[8] != \"-\"\n",
    "\n",
    "  if column_1 or column_2 or column_3:\n",
    "    game_still_going = False\n",
    "  \n",
    "  if column_1:\n",
    "    return board[0] \n",
    "  elif column_2:\n",
    "    return board[1] \n",
    "  elif column_3:\n",
    "    return board[2] \n",
    "  \n",
    "  else:\n",
    "    return None\n",
    "\n",
    "\n"
   ]
  },
  {
   "cell_type": "code",
   "execution_count": 10,
   "metadata": {},
   "outputs": [],
   "source": [
    "def check_diagonals():\n",
    "\n",
    "  global game_still_going\n",
    "  \n",
    "  diagonal_1 = board[0] == board[4] == board[8] != \"-\"\n",
    "  diagonal_2 = board[2] == board[4] == board[6] != \"-\"\n",
    "  \n",
    "  if diagonal_1 or diagonal_2:\n",
    "    game_still_going = False\n",
    "\n",
    "  if diagonal_1:\n",
    "    return board[0] \n",
    "  elif diagonal_2:\n",
    "    return board[2]\n",
    "  else:\n",
    "    return None\n",
    "\n"
   ]
  },
  {
   "cell_type": "code",
   "execution_count": 11,
   "metadata": {},
   "outputs": [],
   "source": [
    "def check_for_tie():\n",
    "  global game_still_going\n",
    "  if \"-\" not in board:\n",
    "    game_still_going = False\n",
    "    return True\n",
    "  else:\n",
    "    return False"
   ]
  },
  {
   "cell_type": "code",
   "execution_count": 12,
   "metadata": {},
   "outputs": [],
   "source": [
    "def flip_player():\n",
    "  global current_player\n",
    "  \n",
    "  if current_player == \"X\":\n",
    "    current_player = \"O\"\n",
    "  elif current_player == \"O\":\n",
    "    current_player = \"X\""
   ]
  },
  {
   "cell_type": "code",
   "execution_count": null,
   "metadata": {},
   "outputs": [
    {
     "name": "stdout",
     "output_type": "stream",
     "text": [
      "\n",
      "\n",
      "- | - | -     1 | 2 | 3\n",
      "- | - | -     4 | 5 | 6\n",
      "- | - | -     7 | 8 | 9\n",
      "\n",
      "\n",
      "X's turn.\n"
     ]
    }
   ],
   "source": [
    "play_game()"
   ]
  },
  {
   "cell_type": "code",
   "execution_count": null,
   "metadata": {},
   "outputs": [],
   "source": []
  }
 ],
 "metadata": {
  "kernelspec": {
   "display_name": "Python 3",
   "language": "python",
   "name": "python3"
  },
  "language_info": {
   "codemirror_mode": {
    "name": "ipython",
    "version": 3
   },
   "file_extension": ".py",
   "mimetype": "text/x-python",
   "name": "python",
   "nbconvert_exporter": "python",
   "pygments_lexer": "ipython3",
   "version": "3.8.5"
  }
 },
 "nbformat": 4,
 "nbformat_minor": 4
}
